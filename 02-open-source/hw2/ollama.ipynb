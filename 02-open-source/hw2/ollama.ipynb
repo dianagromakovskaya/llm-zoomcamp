{
 "cells": [
  {
   "cell_type": "code",
   "execution_count": 1,
   "id": "a4622e79-880d-42f7-a66d-1ee24618d14c",
   "metadata": {},
   "outputs": [
    {
     "name": "stdout",
     "output_type": "stream",
     "text": [
      "--2024-07-11 10:38:34--  https://raw.githubusercontent.com/alexeygrigorev/minsearch/main/minsearch.py\n",
      "Распознаётся raw.githubusercontent.com (raw.githubusercontent.com)… 185.199.109.133, 185.199.108.133, 185.199.111.133, ...\n",
      "Подключение к raw.githubusercontent.com (raw.githubusercontent.com)|185.199.109.133|:443... соединение установлено.\n",
      "HTTP-запрос отправлен. Ожидание ответа… 200 OK\n",
      "Длина: 3832 (3,7K) [text/plain]\n",
      "Сохранение в: «minsearch.py»\n",
      "\n",
      "minsearch.py        100%[===================>]   3,74K  --.-KB/s    за 0s      \n",
      "\n",
      "2024-07-11 10:38:34 (7,37 MB/s) - «minsearch.py» сохранён [3832/3832]\n",
      "\n"
     ]
    }
   ],
   "source": [
    "!rm -f minsearch.py\n",
    "!wget https://raw.githubusercontent.com/alexeygrigorev/minsearch/main/minsearch.py"
   ]
  },
  {
   "cell_type": "code",
   "execution_count": 5,
   "id": "4f8952aa-3837-4879-b14d-a2b6854fe4fa",
   "metadata": {},
   "outputs": [],
   "source": [
    "def llm(prompt):\n",
    "    response = client.chat.completions.create(\n",
    "        model='gemma:2b',\n",
    "        messages=[{\"role\": \"user\", \"content\": prompt}]\n",
    "    )\n",
    "    \n",
    "    return response.choices[0].message.content"
   ]
  },
  {
   "cell_type": "code",
   "execution_count": 6,
   "id": "1ddc299e-98eb-4d5e-acb3-1b14977e95e7",
   "metadata": {},
   "outputs": [],
   "source": [
    "from openai import OpenAI\n",
    "\n",
    "client = OpenAI(\n",
    "    base_url='http://localhost:11434/v1/',\n",
    "    api_key='ollama',\n",
    ")"
   ]
  },
  {
   "cell_type": "code",
   "execution_count": 7,
   "id": "6f9d6a6d-72ad-4b55-ad5f-d4b1620e27cf",
   "metadata": {},
   "outputs": [
    {
     "data": {
      "text/plain": [
       "'Sure. I understand that you would like to write a program that prints the number 10 multiplied by 10.\\n\\n```python\\n10 * 10\\n```\\n\\nThis program will print the following output to the console:\\n\\n```\\n100\\n```'"
      ]
     },
     "execution_count": 7,
     "metadata": {},
     "output_type": "execute_result"
    }
   ],
   "source": [
    "llm('10 * 10')"
   ]
  },
  {
   "cell_type": "code",
   "execution_count": 8,
   "id": "addb0ee3-a040-4e22-a50e-0ed3dda4989c",
   "metadata": {},
   "outputs": [
    {
     "name": "stdout",
     "output_type": "stream",
     "text": [
      "Sure. I understand that you would like to write a program that prints the number 10 multiplied by 10.\n",
      "\n",
      "```python\n",
      "10 * 10\n",
      "```\n",
      "\n",
      "This program will print the following output to the console:\n",
      "\n",
      "```\n",
      "100\n",
      "```\n"
     ]
    }
   ],
   "source": [
    "print(_)"
   ]
  }
 ],
 "metadata": {
  "kernelspec": {
   "display_name": "llm-course",
   "language": "python",
   "name": "llm-course"
  },
  "language_info": {
   "codemirror_mode": {
    "name": "ipython",
    "version": 3
   },
   "file_extension": ".py",
   "mimetype": "text/x-python",
   "name": "python",
   "nbconvert_exporter": "python",
   "pygments_lexer": "ipython3",
   "version": "3.10.13"
  }
 },
 "nbformat": 4,
 "nbformat_minor": 5
}
